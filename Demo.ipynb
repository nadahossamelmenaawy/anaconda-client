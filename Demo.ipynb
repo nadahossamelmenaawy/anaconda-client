{
 "cells": [
  {
   "cell_type": "code",
   "execution_count": 1,
   "id": "b4db21e2",
   "metadata": {
    "_cell_guid": "b1076dfc-b9ad-4769-8c92-a6c4dae69d19",
    "_uuid": "8f2839f25d086af736a60e9eeb907d3b93b6e0e5",
    "execution": {
     "iopub.execute_input": "2022-02-24T09:16:14.093306Z",
     "iopub.status.busy": "2022-02-24T09:16:14.092027Z",
     "iopub.status.idle": "2022-02-24T09:16:14.102299Z",
     "shell.execute_reply": "2022-02-24T09:16:14.102824Z"
    },
    "papermill": {
     "duration": 0.021997,
     "end_time": "2022-02-24T09:16:14.103151",
     "exception": false,
     "start_time": "2022-02-24T09:16:14.081154",
     "status": "completed"
    },
    "tags": []
   },
   "outputs": [],
   "source": [
    "# This Python 3 environment comes with many helpful analytics libraries installed\n",
    "# It is defined by the kaggle/python Docker image: https://github.com/kaggle/docker-python\n",
    "# For example, here's several helpful packages to load\n",
    "\n",
    "import numpy as np # linear algebra\n",
    "import pandas as pd # data processing, CSV file I/O (e.g. pd.read_csv)\n",
    "\n",
    "# Input data files are available in the read-only \"../input/\" directory\n",
    "# For example, running this (by clicking run or pressing Shift+Enter) will list all files under the input directory\n",
    "\n",
    "import os\n",
    "for dirname, _, filenames in os.walk('/kaggle/input'):\n",
    "    for filename in filenames:\n",
    "        print(os.path.join(dirname, filename))\n",
    "\n",
    "# You can write up to 20GB to the current directory (/kaggle/working/) that gets preserved as output when you create a version using \"Save & Run All\" \n",
    "# You can also write temporary files to /kaggle/temp/, but they won't be saved outside of the current session"
   ]
  },
  {
   "cell_type": "markdown",
   "id": "011ecb8e",
   "metadata": {
    "papermill": {
     "duration": 0.005288,
     "end_time": "2022-02-24T09:16:14.114584",
     "exception": false,
     "start_time": "2022-02-24T09:16:14.109296",
     "status": "completed"
    },
    "tags": []
   },
   "source": [
    "#Hello Everyone\n"
   ]
  },
  {
   "cell_type": "markdown",
   "id": "c26a02f4",
   "metadata": {
    "papermill": {
     "duration": 0.005074,
     "end_time": "2022-02-24T09:16:14.125098",
     "exception": false,
     "start_time": "2022-02-24T09:16:14.120024",
     "status": "completed"
    },
    "tags": []
   },
   "source": [
    "# Hello Everyone"
   ]
  },
  {
   "cell_type": "code",
   "execution_count": 2,
   "id": "3f85b1f9",
   "metadata": {
    "execution": {
     "iopub.execute_input": "2022-02-24T09:16:14.139912Z",
     "iopub.status.busy": "2022-02-24T09:16:14.139223Z",
     "iopub.status.idle": "2022-02-24T09:16:14.142708Z",
     "shell.execute_reply": "2022-02-24T09:16:14.143175Z"
    },
    "papermill": {
     "duration": 0.01276,
     "end_time": "2022-02-24T09:16:14.143354",
     "exception": false,
     "start_time": "2022-02-24T09:16:14.130594",
     "status": "completed"
    },
    "tags": []
   },
   "outputs": [],
   "source": [
    "import numpy as np"
   ]
  },
  {
   "cell_type": "code",
   "execution_count": null,
   "id": "0bcb3caf",
   "metadata": {
    "papermill": {
     "duration": 0.005358,
     "end_time": "2022-02-24T09:16:14.154398",
     "exception": false,
     "start_time": "2022-02-24T09:16:14.149040",
     "status": "completed"
    },
    "tags": []
   },
   "outputs": [],
   "source": []
  }
 ],
 "metadata": {
  "kernelspec": {
   "display_name": "Python 3",
   "language": "python",
   "name": "python3"
  },
  "language_info": {
   "codemirror_mode": {
    "name": "ipython",
    "version": 3
   },
   "file_extension": ".py",
   "mimetype": "text/x-python",
   "name": "python",
   "nbconvert_exporter": "python",
   "pygments_lexer": "ipython3",
   "version": "3.7.12"
  },
  "papermill": {
   "default_parameters": {},
   "duration": 12.947999,
   "end_time": "2022-02-24T09:16:14.870669",
   "environment_variables": {},
   "exception": null,
   "input_path": "__notebook__.ipynb",
   "output_path": "__notebook__.ipynb",
   "parameters": {},
   "start_time": "2022-02-24T09:16:01.922670",
   "version": "2.3.3"
  }
 },
 "nbformat": 4,
 "nbformat_minor": 5
}
